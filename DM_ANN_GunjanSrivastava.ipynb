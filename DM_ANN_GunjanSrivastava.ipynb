{
  "nbformat": 4,
  "nbformat_minor": 0,
  "metadata": {
    "colab": {
      "name": "DM_ANN_GunjanSrivastava.ipynb",
      "provenance": [],
      "collapsed_sections": []
    },
    "kernelspec": {
      "name": "python3",
      "display_name": "Python 3"
    },
    "language_info": {
      "name": "python"
    }
  },
  "cells": [
    {
      "cell_type": "markdown",
      "metadata": {
        "id": "9wkHFH0VYCQe"
      },
      "source": [
        "#**Assignment 3 - ANN (Approximate Nearest Neighbor)**\n",
        "\n",
        "**Goal:** Implement the following ANN algorithm on Airbnb New York dataset\n",
        "\n",
        "*   Exhaustive Search\n",
        "*   Product Quantization\n",
        "*   LSH (Locality Sensitive Hashing)\n",
        "*   Hierarchical Navigable Small World Graphs\n",
        "*   Trees and Graphs\n",
        "\n",
        "**Dataset:** \n",
        "\n",
        "Dataset is downloaded from kaggle which is of NewYork Airbnb: https://www.kaggle.com/dgomonov/new-york-city-airbnb-open-data\n",
        "\n",
        "**Data Cleaning:** process of fixing or removing incorrect, corrupted, incorrectly formatted, duplicate, or incomplete data within a dataset. If data is incorrect, outcomes and algorithms are unreliable.\n",
        "\n",
        "**Data Preprocessing:** manipulation or dropping of data before it is used in order to ensure or enhance performance"
      ]
    },
    {
      "cell_type": "code",
      "metadata": {
        "id": "_eiq3KI-lNOv"
      },
      "source": [
        "#Importing all the required libraries\n",
        "\n",
        "import warnings\n",
        "warnings.filterwarnings('ignore')\n",
        "\n",
        "#General Use\n",
        "import pandas as pd\n",
        "import numpy as np\n",
        "from plotnine import *\n",
        "import matplotlib.pyplot as plt\n",
        "import seaborn as sns\n",
        "from sklearn.preprocessing import StandardScaler\n",
        "import io\n",
        "import requests\n",
        "from google.colab import drive\n",
        "\n",
        "#Clustering\n",
        "from sklearn.cluster import KMeans\n",
        "from sklearn.mixture import GaussianMixture\n",
        "\n",
        "#3D Visualization\n",
        "import plotly as py\n",
        "import plotly.graph_objs as go\n",
        "\n",
        "%matplotlib inline"
      ],
      "execution_count": 134,
      "outputs": []
    },
    {
      "cell_type": "code",
      "metadata": {
        "colab": {
          "base_uri": "https://localhost:8080/",
          "height": 736
        },
        "id": "CrygtmOUlHr3",
        "outputId": "d68d1df1-f2f5-49be-ad4c-ebd57f6a2814"
      },
      "source": [
        "drive.mount('/content/drive/')\n",
        "df = pd.read_csv('/content/drive/MyDrive/DataMining/Assignment1/AB_NYC_2019.csv')\n",
        "df.head(10)\n"
      ],
      "execution_count": 135,
      "outputs": [
        {
          "output_type": "stream",
          "name": "stdout",
          "text": [
            "Drive already mounted at /content/drive/; to attempt to forcibly remount, call drive.mount(\"/content/drive/\", force_remount=True).\n"
          ]
        },
        {
          "output_type": "execute_result",
          "data": {
            "text/html": [
              "<div>\n",
              "<style scoped>\n",
              "    .dataframe tbody tr th:only-of-type {\n",
              "        vertical-align: middle;\n",
              "    }\n",
              "\n",
              "    .dataframe tbody tr th {\n",
              "        vertical-align: top;\n",
              "    }\n",
              "\n",
              "    .dataframe thead th {\n",
              "        text-align: right;\n",
              "    }\n",
              "</style>\n",
              "<table border=\"1\" class=\"dataframe\">\n",
              "  <thead>\n",
              "    <tr style=\"text-align: right;\">\n",
              "      <th></th>\n",
              "      <th>id</th>\n",
              "      <th>name</th>\n",
              "      <th>host_id</th>\n",
              "      <th>host_name</th>\n",
              "      <th>neighbourhood_group</th>\n",
              "      <th>neighbourhood</th>\n",
              "      <th>latitude</th>\n",
              "      <th>longitude</th>\n",
              "      <th>room_type</th>\n",
              "      <th>price</th>\n",
              "      <th>minimum_nights</th>\n",
              "      <th>number_of_reviews</th>\n",
              "      <th>last_review</th>\n",
              "      <th>reviews_per_month</th>\n",
              "      <th>calculated_host_listings_count</th>\n",
              "      <th>availability_365</th>\n",
              "    </tr>\n",
              "  </thead>\n",
              "  <tbody>\n",
              "    <tr>\n",
              "      <th>0</th>\n",
              "      <td>2539</td>\n",
              "      <td>Clean &amp; quiet apt home by the park</td>\n",
              "      <td>2787</td>\n",
              "      <td>John</td>\n",
              "      <td>Brooklyn</td>\n",
              "      <td>Kensington</td>\n",
              "      <td>40.64749</td>\n",
              "      <td>-73.97237</td>\n",
              "      <td>Private room</td>\n",
              "      <td>149</td>\n",
              "      <td>1</td>\n",
              "      <td>9</td>\n",
              "      <td>2018-10-19</td>\n",
              "      <td>0.21</td>\n",
              "      <td>6</td>\n",
              "      <td>365</td>\n",
              "    </tr>\n",
              "    <tr>\n",
              "      <th>1</th>\n",
              "      <td>2595</td>\n",
              "      <td>Skylit Midtown Castle</td>\n",
              "      <td>2845</td>\n",
              "      <td>Jennifer</td>\n",
              "      <td>Manhattan</td>\n",
              "      <td>Midtown</td>\n",
              "      <td>40.75362</td>\n",
              "      <td>-73.98377</td>\n",
              "      <td>Entire home/apt</td>\n",
              "      <td>225</td>\n",
              "      <td>1</td>\n",
              "      <td>45</td>\n",
              "      <td>2019-05-21</td>\n",
              "      <td>0.38</td>\n",
              "      <td>2</td>\n",
              "      <td>355</td>\n",
              "    </tr>\n",
              "    <tr>\n",
              "      <th>2</th>\n",
              "      <td>3647</td>\n",
              "      <td>THE VILLAGE OF HARLEM....NEW YORK !</td>\n",
              "      <td>4632</td>\n",
              "      <td>Elisabeth</td>\n",
              "      <td>Manhattan</td>\n",
              "      <td>Harlem</td>\n",
              "      <td>40.80902</td>\n",
              "      <td>-73.94190</td>\n",
              "      <td>Private room</td>\n",
              "      <td>150</td>\n",
              "      <td>3</td>\n",
              "      <td>0</td>\n",
              "      <td>NaN</td>\n",
              "      <td>NaN</td>\n",
              "      <td>1</td>\n",
              "      <td>365</td>\n",
              "    </tr>\n",
              "    <tr>\n",
              "      <th>3</th>\n",
              "      <td>3831</td>\n",
              "      <td>Cozy Entire Floor of Brownstone</td>\n",
              "      <td>4869</td>\n",
              "      <td>LisaRoxanne</td>\n",
              "      <td>Brooklyn</td>\n",
              "      <td>Clinton Hill</td>\n",
              "      <td>40.68514</td>\n",
              "      <td>-73.95976</td>\n",
              "      <td>Entire home/apt</td>\n",
              "      <td>89</td>\n",
              "      <td>1</td>\n",
              "      <td>270</td>\n",
              "      <td>2019-07-05</td>\n",
              "      <td>4.64</td>\n",
              "      <td>1</td>\n",
              "      <td>194</td>\n",
              "    </tr>\n",
              "    <tr>\n",
              "      <th>4</th>\n",
              "      <td>5022</td>\n",
              "      <td>Entire Apt: Spacious Studio/Loft by central park</td>\n",
              "      <td>7192</td>\n",
              "      <td>Laura</td>\n",
              "      <td>Manhattan</td>\n",
              "      <td>East Harlem</td>\n",
              "      <td>40.79851</td>\n",
              "      <td>-73.94399</td>\n",
              "      <td>Entire home/apt</td>\n",
              "      <td>80</td>\n",
              "      <td>10</td>\n",
              "      <td>9</td>\n",
              "      <td>2018-11-19</td>\n",
              "      <td>0.10</td>\n",
              "      <td>1</td>\n",
              "      <td>0</td>\n",
              "    </tr>\n",
              "    <tr>\n",
              "      <th>5</th>\n",
              "      <td>5099</td>\n",
              "      <td>Large Cozy 1 BR Apartment In Midtown East</td>\n",
              "      <td>7322</td>\n",
              "      <td>Chris</td>\n",
              "      <td>Manhattan</td>\n",
              "      <td>Murray Hill</td>\n",
              "      <td>40.74767</td>\n",
              "      <td>-73.97500</td>\n",
              "      <td>Entire home/apt</td>\n",
              "      <td>200</td>\n",
              "      <td>3</td>\n",
              "      <td>74</td>\n",
              "      <td>2019-06-22</td>\n",
              "      <td>0.59</td>\n",
              "      <td>1</td>\n",
              "      <td>129</td>\n",
              "    </tr>\n",
              "    <tr>\n",
              "      <th>6</th>\n",
              "      <td>5121</td>\n",
              "      <td>BlissArtsSpace!</td>\n",
              "      <td>7356</td>\n",
              "      <td>Garon</td>\n",
              "      <td>Brooklyn</td>\n",
              "      <td>Bedford-Stuyvesant</td>\n",
              "      <td>40.68688</td>\n",
              "      <td>-73.95596</td>\n",
              "      <td>Private room</td>\n",
              "      <td>60</td>\n",
              "      <td>45</td>\n",
              "      <td>49</td>\n",
              "      <td>2017-10-05</td>\n",
              "      <td>0.40</td>\n",
              "      <td>1</td>\n",
              "      <td>0</td>\n",
              "    </tr>\n",
              "    <tr>\n",
              "      <th>7</th>\n",
              "      <td>5178</td>\n",
              "      <td>Large Furnished Room Near B'way</td>\n",
              "      <td>8967</td>\n",
              "      <td>Shunichi</td>\n",
              "      <td>Manhattan</td>\n",
              "      <td>Hell's Kitchen</td>\n",
              "      <td>40.76489</td>\n",
              "      <td>-73.98493</td>\n",
              "      <td>Private room</td>\n",
              "      <td>79</td>\n",
              "      <td>2</td>\n",
              "      <td>430</td>\n",
              "      <td>2019-06-24</td>\n",
              "      <td>3.47</td>\n",
              "      <td>1</td>\n",
              "      <td>220</td>\n",
              "    </tr>\n",
              "    <tr>\n",
              "      <th>8</th>\n",
              "      <td>5203</td>\n",
              "      <td>Cozy Clean Guest Room - Family Apt</td>\n",
              "      <td>7490</td>\n",
              "      <td>MaryEllen</td>\n",
              "      <td>Manhattan</td>\n",
              "      <td>Upper West Side</td>\n",
              "      <td>40.80178</td>\n",
              "      <td>-73.96723</td>\n",
              "      <td>Private room</td>\n",
              "      <td>79</td>\n",
              "      <td>2</td>\n",
              "      <td>118</td>\n",
              "      <td>2017-07-21</td>\n",
              "      <td>0.99</td>\n",
              "      <td>1</td>\n",
              "      <td>0</td>\n",
              "    </tr>\n",
              "    <tr>\n",
              "      <th>9</th>\n",
              "      <td>5238</td>\n",
              "      <td>Cute &amp; Cozy Lower East Side 1 bdrm</td>\n",
              "      <td>7549</td>\n",
              "      <td>Ben</td>\n",
              "      <td>Manhattan</td>\n",
              "      <td>Chinatown</td>\n",
              "      <td>40.71344</td>\n",
              "      <td>-73.99037</td>\n",
              "      <td>Entire home/apt</td>\n",
              "      <td>150</td>\n",
              "      <td>1</td>\n",
              "      <td>160</td>\n",
              "      <td>2019-06-09</td>\n",
              "      <td>1.33</td>\n",
              "      <td>4</td>\n",
              "      <td>188</td>\n",
              "    </tr>\n",
              "  </tbody>\n",
              "</table>\n",
              "</div>"
            ],
            "text/plain": [
              "     id  ... availability_365\n",
              "0  2539  ...              365\n",
              "1  2595  ...              355\n",
              "2  3647  ...              365\n",
              "3  3831  ...              194\n",
              "4  5022  ...                0\n",
              "5  5099  ...              129\n",
              "6  5121  ...                0\n",
              "7  5178  ...              220\n",
              "8  5203  ...                0\n",
              "9  5238  ...              188\n",
              "\n",
              "[10 rows x 16 columns]"
            ]
          },
          "metadata": {},
          "execution_count": 135
        }
      ]
    },
    {
      "cell_type": "code",
      "metadata": {
        "colab": {
          "base_uri": "https://localhost:8080/"
        },
        "id": "1bfygp5EqQHM",
        "outputId": "58c844aa-840b-4eff-8a6c-82c55875c035"
      },
      "source": [
        "print(df.shape)"
      ],
      "execution_count": 136,
      "outputs": [
        {
          "output_type": "stream",
          "name": "stdout",
          "text": [
            "(48895, 16)\n"
          ]
        }
      ]
    },
    {
      "cell_type": "markdown",
      "metadata": {
        "id": "V-WiE3hsoL8i"
      },
      "source": [
        "### Data - **Preprocessing**"
      ]
    },
    {
      "cell_type": "code",
      "metadata": {
        "id": "WjnyYY8upjrT"
      },
      "source": [
        "df = df.drop(df[(df['name']).str.len() < 5].index)"
      ],
      "execution_count": 137,
      "outputs": []
    },
    {
      "cell_type": "code",
      "metadata": {
        "colab": {
          "base_uri": "https://localhost:8080/"
        },
        "id": "k-Dw7WMMuBIr",
        "outputId": "49c094c5-1bc3-419b-cb75-706fad5a9c67"
      },
      "source": [
        "#To understand the number of columns and rows we need to work with\n",
        "print(df.shape)"
      ],
      "execution_count": 138,
      "outputs": [
        {
          "output_type": "stream",
          "name": "stdout",
          "text": [
            "(48826, 16)\n"
          ]
        }
      ]
    },
    {
      "cell_type": "code",
      "metadata": {
        "id": "46XZK3nyugBu"
      },
      "source": [
        "# Dropping the rows where the host name of the person listing the AirBnb property is less than 3 characters, \n",
        "#on closer inspection found that these values were invalid. Hence getting rid of those records.\n",
        "\n",
        "df = df.drop(df[(df['host_name']).str.len() < 3].index)"
      ],
      "execution_count": 139,
      "outputs": []
    },
    {
      "cell_type": "code",
      "metadata": {
        "colab": {
          "base_uri": "https://localhost:8080/"
        },
        "id": "Zfu1m_a4uoJ7",
        "outputId": "0ddd48f2-d7c2-4e67-e33c-db25fb51f9e3"
      },
      "source": [
        "# number of columns and rows reduced\n",
        "print(df.shape)"
      ],
      "execution_count": 140,
      "outputs": [
        {
          "output_type": "stream",
          "name": "stdout",
          "text": [
            "(48095, 16)\n"
          ]
        }
      ]
    },
    {
      "cell_type": "code",
      "metadata": {
        "colab": {
          "base_uri": "https://localhost:8080/"
        },
        "id": "0jULFDxsllQJ",
        "outputId": "d2603ba8-381e-4208-be88-a05e96ae2caf"
      },
      "source": [
        "#Extracting the data type information of all the columns to work appropriately \n",
        "df.info()"
      ],
      "execution_count": 141,
      "outputs": [
        {
          "output_type": "stream",
          "name": "stdout",
          "text": [
            "<class 'pandas.core.frame.DataFrame'>\n",
            "Int64Index: 48095 entries, 0 to 48894\n",
            "Data columns (total 16 columns):\n",
            " #   Column                          Non-Null Count  Dtype  \n",
            "---  ------                          --------------  -----  \n",
            " 0   id                              48095 non-null  int64  \n",
            " 1   name                            48079 non-null  object \n",
            " 2   host_id                         48095 non-null  int64  \n",
            " 3   host_name                       48074 non-null  object \n",
            " 4   neighbourhood_group             48095 non-null  object \n",
            " 5   neighbourhood                   48095 non-null  object \n",
            " 6   latitude                        48095 non-null  float64\n",
            " 7   longitude                       48095 non-null  float64\n",
            " 8   room_type                       48095 non-null  object \n",
            " 9   price                           48095 non-null  int64  \n",
            " 10  minimum_nights                  48095 non-null  int64  \n",
            " 11  number_of_reviews               48095 non-null  int64  \n",
            " 12  last_review                     38211 non-null  object \n",
            " 13  reviews_per_month               38211 non-null  float64\n",
            " 14  calculated_host_listings_count  48095 non-null  int64  \n",
            " 15  availability_365                48095 non-null  int64  \n",
            "dtypes: float64(3), int64(7), object(6)\n",
            "memory usage: 6.2+ MB\n"
          ]
        }
      ]
    },
    {
      "cell_type": "code",
      "metadata": {
        "colab": {
          "base_uri": "https://localhost:8080/"
        },
        "id": "G7hOPMiZlp70",
        "outputId": "0e212e89-1abb-4888-91b8-c076690e8676"
      },
      "source": [
        "#Get unique count for each column\n",
        "df.nunique()"
      ],
      "execution_count": 142,
      "outputs": [
        {
          "output_type": "execute_result",
          "data": {
            "text/plain": [
              "id                                48095\n",
              "name                              47128\n",
              "host_id                           36828\n",
              "host_name                         11213\n",
              "neighbourhood_group                   5\n",
              "neighbourhood                       221\n",
              "latitude                          18932\n",
              "longitude                         14609\n",
              "room_type                             3\n",
              "price                               671\n",
              "minimum_nights                      109\n",
              "number_of_reviews                   390\n",
              "last_review                        1757\n",
              "reviews_per_month                   935\n",
              "calculated_host_listings_count       47\n",
              "availability_365                    366\n",
              "dtype: int64"
            ]
          },
          "metadata": {},
          "execution_count": 142
        }
      ]
    },
    {
      "cell_type": "code",
      "metadata": {
        "colab": {
          "base_uri": "https://localhost:8080/",
          "height": 297
        },
        "id": "3otsOUb7l7Hw",
        "outputId": "38f2da30-8475-4d37-fa17-71613103efcf"
      },
      "source": [
        "#Calculating statistical data\n",
        "df.describe()"
      ],
      "execution_count": 143,
      "outputs": [
        {
          "output_type": "execute_result",
          "data": {
            "text/html": [
              "<div>\n",
              "<style scoped>\n",
              "    .dataframe tbody tr th:only-of-type {\n",
              "        vertical-align: middle;\n",
              "    }\n",
              "\n",
              "    .dataframe tbody tr th {\n",
              "        vertical-align: top;\n",
              "    }\n",
              "\n",
              "    .dataframe thead th {\n",
              "        text-align: right;\n",
              "    }\n",
              "</style>\n",
              "<table border=\"1\" class=\"dataframe\">\n",
              "  <thead>\n",
              "    <tr style=\"text-align: right;\">\n",
              "      <th></th>\n",
              "      <th>id</th>\n",
              "      <th>host_id</th>\n",
              "      <th>latitude</th>\n",
              "      <th>longitude</th>\n",
              "      <th>price</th>\n",
              "      <th>minimum_nights</th>\n",
              "      <th>number_of_reviews</th>\n",
              "      <th>reviews_per_month</th>\n",
              "      <th>calculated_host_listings_count</th>\n",
              "      <th>availability_365</th>\n",
              "    </tr>\n",
              "  </thead>\n",
              "  <tbody>\n",
              "    <tr>\n",
              "      <th>count</th>\n",
              "      <td>4.809500e+04</td>\n",
              "      <td>4.809500e+04</td>\n",
              "      <td>48095.000000</td>\n",
              "      <td>48095.000000</td>\n",
              "      <td>48095.000000</td>\n",
              "      <td>48095.000000</td>\n",
              "      <td>48095.000000</td>\n",
              "      <td>38211.000000</td>\n",
              "      <td>48095.000000</td>\n",
              "      <td>48095.000000</td>\n",
              "    </tr>\n",
              "    <tr>\n",
              "      <th>mean</th>\n",
              "      <td>1.901470e+07</td>\n",
              "      <td>6.755719e+07</td>\n",
              "      <td>40.728829</td>\n",
              "      <td>-73.952200</td>\n",
              "      <td>152.499595</td>\n",
              "      <td>7.062231</td>\n",
              "      <td>23.174696</td>\n",
              "      <td>1.371417</td>\n",
              "      <td>7.233829</td>\n",
              "      <td>112.672190</td>\n",
              "    </tr>\n",
              "    <tr>\n",
              "      <th>std</th>\n",
              "      <td>1.097591e+07</td>\n",
              "      <td>7.855660e+07</td>\n",
              "      <td>0.054518</td>\n",
              "      <td>0.046074</td>\n",
              "      <td>240.675443</td>\n",
              "      <td>20.644556</td>\n",
              "      <td>44.250934</td>\n",
              "      <td>1.681044</td>\n",
              "      <td>33.217194</td>\n",
              "      <td>131.656201</td>\n",
              "    </tr>\n",
              "    <tr>\n",
              "      <th>min</th>\n",
              "      <td>2.539000e+03</td>\n",
              "      <td>2.438000e+03</td>\n",
              "      <td>40.499790</td>\n",
              "      <td>-74.244420</td>\n",
              "      <td>0.000000</td>\n",
              "      <td>1.000000</td>\n",
              "      <td>0.000000</td>\n",
              "      <td>0.010000</td>\n",
              "      <td>1.000000</td>\n",
              "      <td>0.000000</td>\n",
              "    </tr>\n",
              "    <tr>\n",
              "      <th>25%</th>\n",
              "      <td>9.473863e+06</td>\n",
              "      <td>7.831209e+06</td>\n",
              "      <td>40.689950</td>\n",
              "      <td>-73.983030</td>\n",
              "      <td>69.000000</td>\n",
              "      <td>1.000000</td>\n",
              "      <td>1.000000</td>\n",
              "      <td>0.190000</td>\n",
              "      <td>1.000000</td>\n",
              "      <td>0.000000</td>\n",
              "    </tr>\n",
              "    <tr>\n",
              "      <th>50%</th>\n",
              "      <td>1.967332e+07</td>\n",
              "      <td>3.077553e+07</td>\n",
              "      <td>40.722890</td>\n",
              "      <td>-73.955650</td>\n",
              "      <td>106.000000</td>\n",
              "      <td>3.000000</td>\n",
              "      <td>5.000000</td>\n",
              "      <td>0.710000</td>\n",
              "      <td>1.000000</td>\n",
              "      <td>44.000000</td>\n",
              "    </tr>\n",
              "    <tr>\n",
              "      <th>75%</th>\n",
              "      <td>2.914741e+07</td>\n",
              "      <td>1.074344e+08</td>\n",
              "      <td>40.763070</td>\n",
              "      <td>-73.936205</td>\n",
              "      <td>175.000000</td>\n",
              "      <td>5.000000</td>\n",
              "      <td>23.000000</td>\n",
              "      <td>2.020000</td>\n",
              "      <td>2.000000</td>\n",
              "      <td>227.000000</td>\n",
              "    </tr>\n",
              "    <tr>\n",
              "      <th>max</th>\n",
              "      <td>3.648724e+07</td>\n",
              "      <td>2.743213e+08</td>\n",
              "      <td>40.911690</td>\n",
              "      <td>-73.712990</td>\n",
              "      <td>10000.000000</td>\n",
              "      <td>1250.000000</td>\n",
              "      <td>629.000000</td>\n",
              "      <td>58.500000</td>\n",
              "      <td>327.000000</td>\n",
              "      <td>365.000000</td>\n",
              "    </tr>\n",
              "  </tbody>\n",
              "</table>\n",
              "</div>"
            ],
            "text/plain": [
              "                 id  ...  availability_365\n",
              "count  4.809500e+04  ...      48095.000000\n",
              "mean   1.901470e+07  ...        112.672190\n",
              "std    1.097591e+07  ...        131.656201\n",
              "min    2.539000e+03  ...          0.000000\n",
              "25%    9.473863e+06  ...          0.000000\n",
              "50%    1.967332e+07  ...         44.000000\n",
              "75%    2.914741e+07  ...        227.000000\n",
              "max    3.648724e+07  ...        365.000000\n",
              "\n",
              "[8 rows x 10 columns]"
            ]
          },
          "metadata": {},
          "execution_count": 143
        }
      ]
    },
    {
      "cell_type": "code",
      "metadata": {
        "colab": {
          "base_uri": "https://localhost:8080/",
          "height": 204
        },
        "id": "5x8XPKwhnQ6x",
        "outputId": "5aea9e1a-4ef9-4e25-8ce0-1f54a3649587"
      },
      "source": [
        "#Dropping columns that do not contribute in training the model\n",
        "df_extract = df.drop(['host_name', 'neighbourhood','minimum_nights', 'last_review', \"reviews_per_month\"], axis = 'columns')\n",
        "df_extract.head()"
      ],
      "execution_count": 144,
      "outputs": [
        {
          "output_type": "execute_result",
          "data": {
            "text/html": [
              "<div>\n",
              "<style scoped>\n",
              "    .dataframe tbody tr th:only-of-type {\n",
              "        vertical-align: middle;\n",
              "    }\n",
              "\n",
              "    .dataframe tbody tr th {\n",
              "        vertical-align: top;\n",
              "    }\n",
              "\n",
              "    .dataframe thead th {\n",
              "        text-align: right;\n",
              "    }\n",
              "</style>\n",
              "<table border=\"1\" class=\"dataframe\">\n",
              "  <thead>\n",
              "    <tr style=\"text-align: right;\">\n",
              "      <th></th>\n",
              "      <th>id</th>\n",
              "      <th>name</th>\n",
              "      <th>host_id</th>\n",
              "      <th>neighbourhood_group</th>\n",
              "      <th>latitude</th>\n",
              "      <th>longitude</th>\n",
              "      <th>room_type</th>\n",
              "      <th>price</th>\n",
              "      <th>number_of_reviews</th>\n",
              "      <th>calculated_host_listings_count</th>\n",
              "      <th>availability_365</th>\n",
              "    </tr>\n",
              "  </thead>\n",
              "  <tbody>\n",
              "    <tr>\n",
              "      <th>0</th>\n",
              "      <td>2539</td>\n",
              "      <td>Clean &amp; quiet apt home by the park</td>\n",
              "      <td>2787</td>\n",
              "      <td>Brooklyn</td>\n",
              "      <td>40.64749</td>\n",
              "      <td>-73.97237</td>\n",
              "      <td>Private room</td>\n",
              "      <td>149</td>\n",
              "      <td>9</td>\n",
              "      <td>6</td>\n",
              "      <td>365</td>\n",
              "    </tr>\n",
              "    <tr>\n",
              "      <th>1</th>\n",
              "      <td>2595</td>\n",
              "      <td>Skylit Midtown Castle</td>\n",
              "      <td>2845</td>\n",
              "      <td>Manhattan</td>\n",
              "      <td>40.75362</td>\n",
              "      <td>-73.98377</td>\n",
              "      <td>Entire home/apt</td>\n",
              "      <td>225</td>\n",
              "      <td>45</td>\n",
              "      <td>2</td>\n",
              "      <td>355</td>\n",
              "    </tr>\n",
              "    <tr>\n",
              "      <th>2</th>\n",
              "      <td>3647</td>\n",
              "      <td>THE VILLAGE OF HARLEM....NEW YORK !</td>\n",
              "      <td>4632</td>\n",
              "      <td>Manhattan</td>\n",
              "      <td>40.80902</td>\n",
              "      <td>-73.94190</td>\n",
              "      <td>Private room</td>\n",
              "      <td>150</td>\n",
              "      <td>0</td>\n",
              "      <td>1</td>\n",
              "      <td>365</td>\n",
              "    </tr>\n",
              "    <tr>\n",
              "      <th>3</th>\n",
              "      <td>3831</td>\n",
              "      <td>Cozy Entire Floor of Brownstone</td>\n",
              "      <td>4869</td>\n",
              "      <td>Brooklyn</td>\n",
              "      <td>40.68514</td>\n",
              "      <td>-73.95976</td>\n",
              "      <td>Entire home/apt</td>\n",
              "      <td>89</td>\n",
              "      <td>270</td>\n",
              "      <td>1</td>\n",
              "      <td>194</td>\n",
              "    </tr>\n",
              "    <tr>\n",
              "      <th>4</th>\n",
              "      <td>5022</td>\n",
              "      <td>Entire Apt: Spacious Studio/Loft by central park</td>\n",
              "      <td>7192</td>\n",
              "      <td>Manhattan</td>\n",
              "      <td>40.79851</td>\n",
              "      <td>-73.94399</td>\n",
              "      <td>Entire home/apt</td>\n",
              "      <td>80</td>\n",
              "      <td>9</td>\n",
              "      <td>1</td>\n",
              "      <td>0</td>\n",
              "    </tr>\n",
              "  </tbody>\n",
              "</table>\n",
              "</div>"
            ],
            "text/plain": [
              "     id  ... availability_365\n",
              "0  2539  ...              365\n",
              "1  2595  ...              355\n",
              "2  3647  ...              365\n",
              "3  3831  ...              194\n",
              "4  5022  ...                0\n",
              "\n",
              "[5 rows x 11 columns]"
            ]
          },
          "metadata": {},
          "execution_count": 144
        }
      ]
    },
    {
      "cell_type": "code",
      "metadata": {
        "colab": {
          "base_uri": "https://localhost:8080/"
        },
        "id": "4moeiEJ_n2CX",
        "outputId": "8fb7b0a6-2ad0-42a6-d34c-6cbd8e84553c"
      },
      "source": [
        "#Renaming the columns to have more apt and meaningful names\n",
        "df_extract.rename({\"neighbourhood_group\": \"NYC-Boroughs\", \"calculated_host_listings_count\": \"num_of_host_listings\"})\n",
        "df_extract.info()"
      ],
      "execution_count": 145,
      "outputs": [
        {
          "output_type": "stream",
          "name": "stdout",
          "text": [
            "<class 'pandas.core.frame.DataFrame'>\n",
            "Int64Index: 48095 entries, 0 to 48894\n",
            "Data columns (total 11 columns):\n",
            " #   Column                          Non-Null Count  Dtype  \n",
            "---  ------                          --------------  -----  \n",
            " 0   id                              48095 non-null  int64  \n",
            " 1   name                            48079 non-null  object \n",
            " 2   host_id                         48095 non-null  int64  \n",
            " 3   neighbourhood_group             48095 non-null  object \n",
            " 4   latitude                        48095 non-null  float64\n",
            " 5   longitude                       48095 non-null  float64\n",
            " 6   room_type                       48095 non-null  object \n",
            " 7   price                           48095 non-null  int64  \n",
            " 8   number_of_reviews               48095 non-null  int64  \n",
            " 9   calculated_host_listings_count  48095 non-null  int64  \n",
            " 10  availability_365                48095 non-null  int64  \n",
            "dtypes: float64(2), int64(6), object(3)\n",
            "memory usage: 5.7+ MB\n"
          ]
        }
      ]
    },
    {
      "cell_type": "code",
      "metadata": {
        "id": "gDX2OCfNvcoN"
      },
      "source": [
        "#Dropping the rows where the availablity for that property is 0.\n",
        "df_extract = df_extract.drop(df_extract[(df_extract['availability_365']) == 0].index)"
      ],
      "execution_count": 146,
      "outputs": []
    },
    {
      "cell_type": "code",
      "metadata": {
        "colab": {
          "base_uri": "https://localhost:8080/"
        },
        "id": "FcqD2rchvu3T",
        "outputId": "d3b076fe-22bc-4dfc-e41b-bb83130fafa7"
      },
      "source": [
        "#Number of columns reduced to [30802 rows x 10 columns]\n",
        "df_extract.count"
      ],
      "execution_count": 147,
      "outputs": [
        {
          "output_type": "execute_result",
          "data": {
            "text/plain": [
              "<bound method DataFrame.count of              id  ... availability_365\n",
              "0          2539  ...              365\n",
              "1          2595  ...              355\n",
              "2          3647  ...              365\n",
              "3          3831  ...              194\n",
              "5          5099  ...              129\n",
              "...         ...  ...              ...\n",
              "48890  36484665  ...                9\n",
              "48891  36485057  ...               36\n",
              "48892  36485431  ...               27\n",
              "48893  36485609  ...                2\n",
              "48894  36487245  ...               23\n",
              "\n",
              "[30802 rows x 11 columns]>"
            ]
          },
          "metadata": {},
          "execution_count": 147
        }
      ]
    },
    {
      "cell_type": "code",
      "metadata": {
        "id": "KFisgzQIxeYV"
      },
      "source": [
        "# df['NYC-Boroughs'] = df['NYC-Boroughs'].astype('str')\n",
        "# df['room_type'] = df['room_type'].astype('str')\n",
        "\n",
        "#Removing propeties where the price of a \"Private room\" room type is less than 30, as it inaccurate value for an avg price in NYC listing\n",
        "\n",
        "df_price_check = df_extract.drop( df_extract[ ( df_extract['price'] < 30 ) & ( df_extract['room_type'] == 'Private room') ].index )"
      ],
      "execution_count": 148,
      "outputs": []
    },
    {
      "cell_type": "code",
      "metadata": {
        "colab": {
          "base_uri": "https://localhost:8080/"
        },
        "id": "M8oYwXpx1jQP",
        "outputId": "6e951539-fcc6-4587-c885-1be29fbe11bd"
      },
      "source": [
        "df_price_check.count"
      ],
      "execution_count": 149,
      "outputs": [
        {
          "output_type": "execute_result",
          "data": {
            "text/plain": [
              "<bound method DataFrame.count of              id  ... availability_365\n",
              "0          2539  ...              365\n",
              "1          2595  ...              355\n",
              "2          3647  ...              365\n",
              "3          3831  ...              194\n",
              "5          5099  ...              129\n",
              "...         ...  ...              ...\n",
              "48890  36484665  ...                9\n",
              "48891  36485057  ...               36\n",
              "48892  36485431  ...               27\n",
              "48893  36485609  ...                2\n",
              "48894  36487245  ...               23\n",
              "\n",
              "[30691 rows x 11 columns]>"
            ]
          },
          "metadata": {},
          "execution_count": 149
        }
      ]
    },
    {
      "cell_type": "code",
      "metadata": {
        "id": "noJ4Vc5p12RG"
      },
      "source": [
        "#Removing propeties where the price of a \"Entire home/apt\" room type is less than 50, as it inaccurate value for an avg price in NYC listing\n",
        "\n",
        "df_price_check = df_price_check.drop( df_price_check[ ( df_price_check['price'] < 50 ) & ( df_price_check['room_type'] == 'Entire home/apt') ].index )"
      ],
      "execution_count": 150,
      "outputs": []
    },
    {
      "cell_type": "code",
      "metadata": {
        "colab": {
          "base_uri": "https://localhost:8080/"
        },
        "id": "JWlLxsP72ECf",
        "outputId": "6236e223-0324-4616-be29-6c73a875d170"
      },
      "source": [
        "#Number of columns reduced to [30617 rows x 10 columns]\n",
        "df_price_check.count"
      ],
      "execution_count": 151,
      "outputs": [
        {
          "output_type": "execute_result",
          "data": {
            "text/plain": [
              "<bound method DataFrame.count of              id  ... availability_365\n",
              "0          2539  ...              365\n",
              "1          2595  ...              355\n",
              "2          3647  ...              365\n",
              "3          3831  ...              194\n",
              "5          5099  ...              129\n",
              "...         ...  ...              ...\n",
              "48890  36484665  ...                9\n",
              "48891  36485057  ...               36\n",
              "48892  36485431  ...               27\n",
              "48893  36485609  ...                2\n",
              "48894  36487245  ...               23\n",
              "\n",
              "[30617 rows x 11 columns]>"
            ]
          },
          "metadata": {},
          "execution_count": 151
        }
      ]
    },
    {
      "cell_type": "code",
      "metadata": {
        "colab": {
          "base_uri": "https://localhost:8080/",
          "height": 204
        },
        "id": "blqzWN1O7EpT",
        "outputId": "cb068d34-d998-4d46-9414-f3a8889fb4c2"
      },
      "source": [
        "df_price_check.head()"
      ],
      "execution_count": 152,
      "outputs": [
        {
          "output_type": "execute_result",
          "data": {
            "text/html": [
              "<div>\n",
              "<style scoped>\n",
              "    .dataframe tbody tr th:only-of-type {\n",
              "        vertical-align: middle;\n",
              "    }\n",
              "\n",
              "    .dataframe tbody tr th {\n",
              "        vertical-align: top;\n",
              "    }\n",
              "\n",
              "    .dataframe thead th {\n",
              "        text-align: right;\n",
              "    }\n",
              "</style>\n",
              "<table border=\"1\" class=\"dataframe\">\n",
              "  <thead>\n",
              "    <tr style=\"text-align: right;\">\n",
              "      <th></th>\n",
              "      <th>id</th>\n",
              "      <th>name</th>\n",
              "      <th>host_id</th>\n",
              "      <th>neighbourhood_group</th>\n",
              "      <th>latitude</th>\n",
              "      <th>longitude</th>\n",
              "      <th>room_type</th>\n",
              "      <th>price</th>\n",
              "      <th>number_of_reviews</th>\n",
              "      <th>calculated_host_listings_count</th>\n",
              "      <th>availability_365</th>\n",
              "    </tr>\n",
              "  </thead>\n",
              "  <tbody>\n",
              "    <tr>\n",
              "      <th>0</th>\n",
              "      <td>2539</td>\n",
              "      <td>Clean &amp; quiet apt home by the park</td>\n",
              "      <td>2787</td>\n",
              "      <td>Brooklyn</td>\n",
              "      <td>40.64749</td>\n",
              "      <td>-73.97237</td>\n",
              "      <td>Private room</td>\n",
              "      <td>149</td>\n",
              "      <td>9</td>\n",
              "      <td>6</td>\n",
              "      <td>365</td>\n",
              "    </tr>\n",
              "    <tr>\n",
              "      <th>1</th>\n",
              "      <td>2595</td>\n",
              "      <td>Skylit Midtown Castle</td>\n",
              "      <td>2845</td>\n",
              "      <td>Manhattan</td>\n",
              "      <td>40.75362</td>\n",
              "      <td>-73.98377</td>\n",
              "      <td>Entire home/apt</td>\n",
              "      <td>225</td>\n",
              "      <td>45</td>\n",
              "      <td>2</td>\n",
              "      <td>355</td>\n",
              "    </tr>\n",
              "    <tr>\n",
              "      <th>2</th>\n",
              "      <td>3647</td>\n",
              "      <td>THE VILLAGE OF HARLEM....NEW YORK !</td>\n",
              "      <td>4632</td>\n",
              "      <td>Manhattan</td>\n",
              "      <td>40.80902</td>\n",
              "      <td>-73.94190</td>\n",
              "      <td>Private room</td>\n",
              "      <td>150</td>\n",
              "      <td>0</td>\n",
              "      <td>1</td>\n",
              "      <td>365</td>\n",
              "    </tr>\n",
              "    <tr>\n",
              "      <th>3</th>\n",
              "      <td>3831</td>\n",
              "      <td>Cozy Entire Floor of Brownstone</td>\n",
              "      <td>4869</td>\n",
              "      <td>Brooklyn</td>\n",
              "      <td>40.68514</td>\n",
              "      <td>-73.95976</td>\n",
              "      <td>Entire home/apt</td>\n",
              "      <td>89</td>\n",
              "      <td>270</td>\n",
              "      <td>1</td>\n",
              "      <td>194</td>\n",
              "    </tr>\n",
              "    <tr>\n",
              "      <th>5</th>\n",
              "      <td>5099</td>\n",
              "      <td>Large Cozy 1 BR Apartment In Midtown East</td>\n",
              "      <td>7322</td>\n",
              "      <td>Manhattan</td>\n",
              "      <td>40.74767</td>\n",
              "      <td>-73.97500</td>\n",
              "      <td>Entire home/apt</td>\n",
              "      <td>200</td>\n",
              "      <td>74</td>\n",
              "      <td>1</td>\n",
              "      <td>129</td>\n",
              "    </tr>\n",
              "  </tbody>\n",
              "</table>\n",
              "</div>"
            ],
            "text/plain": [
              "     id  ... availability_365\n",
              "0  2539  ...              365\n",
              "1  2595  ...              355\n",
              "2  3647  ...              365\n",
              "3  3831  ...              194\n",
              "5  5099  ...              129\n",
              "\n",
              "[5 rows x 11 columns]"
            ]
          },
          "metadata": {},
          "execution_count": 152
        }
      ]
    },
    {
      "cell_type": "markdown",
      "metadata": {
        "id": "kYju4115s6_p"
      },
      "source": [
        "#Data Exploration"
      ]
    },
    {
      "cell_type": "code",
      "metadata": {
        "colab": {
          "base_uri": "https://localhost:8080/",
          "height": 351
        },
        "id": "UoFhL-yq3fC9",
        "outputId": "7f175c8e-03fe-41bf-b15b-f3bbf2226cf2"
      },
      "source": [
        "import seaborn as sns\n",
        "#Distribution of Price\n",
        "\n",
        "plt.figure(figsize= (5, 5))\n",
        "sns.distplot(df_price_check['price'])"
      ],
      "execution_count": 153,
      "outputs": [
        {
          "output_type": "execute_result",
          "data": {
            "text/plain": [
              "<matplotlib.axes._subplots.AxesSubplot at 0x7f495263ca90>"
            ]
          },
          "metadata": {},
          "execution_count": 153
        },
        {
          "output_type": "display_data",
          "data": {
            "image/png": "[encoded data removed]",
            "text/plain": [
              "<Figure size 360x360 with 1 Axes>"
            ]
          },
          "metadata": {
            "needs_background": "light"
          }
        }
      ]
    },
    {
      "cell_type": "code",
      "metadata": {
        "colab": {
          "base_uri": "https://localhost:8080/",
          "height": 526
        },
        "id": "tYVkS3QQ6UKB",
        "outputId": "18c44c15-fc5a-4b85-a361-7834d15082d5"
      },
      "source": [
        "##Average price of a property\n",
        "\n",
        "plt.figure(figsize=(15, 8))\n",
        "cross = ((df_price_check['price']) , df_price_check['number_of_reviews'])\n",
        "sns.heatmap(cross, annot=False, fmt='g', cmap='binary')"
      ],
      "execution_count": 154,
      "outputs": [
        {
          "output_type": "execute_result",
          "data": {
            "text/plain": [
              "<matplotlib.axes._subplots.AxesSubplot at 0x7f4950f88cd0>"
            ]
          },
          "metadata": {},
          "execution_count": 154
        },
        {
          "output_type": "display_data",
          "data": {
            "image/png": "[encoded data removed]",
            "text/plain": [
              "<Figure size 1080x576 with 2 Axes>"
            ]
          },
          "metadata": {
            "needs_background": "light"
          }
        }
      ]
    },
    {
      "cell_type": "code",
      "metadata": {
        "id": "_QPWhwwfU91T"
      },
      "source": [
        "df_price_check = df_price_check.rename(columns={'neighbourhood_group' : \"NYC_Boroughs\"})"
      ],
      "execution_count": 155,
      "outputs": []
    },
    {
      "cell_type": "code",
      "metadata": {
        "colab": {
          "base_uri": "https://localhost:8080/",
          "height": 621
        },
        "id": "xkuk5Pyle71g",
        "outputId": "c384533b-7cae-418f-8665-7c5c57d4b026"
      },
      "source": [
        "#Plotting a chart to show the price distribution based on the NYC boroughs\n",
        "\n",
        "def plot_scatter_chart(df_price_check):\n",
        "    plt.rcParams['figure.figsize'] = (10,10)\n",
        "    plt.scatter(df_price_check.price,df_price_check.NYC_Boroughs,color='purple',label='price', s=50)\n",
        "    plt.xlabel(\"Price\")\n",
        "    plt.ylabel(\"NYC Boroughs\")\n",
        "    plt.title(\"Price Distribution\")\n",
        "    plt.legend()\n",
        "plot_scatter_chart(df_price_check)"
      ],
      "execution_count": 156,
      "outputs": [
        {
          "output_type": "display_data",
          "data": {
            "image/png": "[encoded data removed]",
            "text/plain": [
              "<Figure size 720x720 with 1 Axes>"
            ]
          },
          "metadata": {
            "needs_background": "light"
          }
        }
      ]
    },
    {
      "cell_type": "markdown",
      "metadata": {
        "id": "qzTdTZOsrNI4"
      },
      "source": [
        "##**Applying model training with scikit learn - Linear Regression**"
      ]
    },
    {
      "cell_type": "markdown",
      "metadata": {
        "id": "qQbu3Vu5roSO"
      },
      "source": [
        "##Training the model with number of reviews and price to predict price of properties on AirBnb listings - popularity"
      ]
    },
    {
      "cell_type": "code",
      "metadata": {
        "colab": {
          "base_uri": "https://localhost:8080/"
        },
        "id": "Ag3wCfFdi6ae",
        "outputId": "433bf01c-60cd-45cd-bcca-ce9c4ff9e8c1"
      },
      "source": [
        "from sklearn import linear_model\n",
        "\n",
        "regs = linear_model.LinearRegression()\n",
        "regs.fit(df_price_check[['number_of_reviews']], df_price_check['price'])"
      ],
      "execution_count": 157,
      "outputs": [
        {
          "output_type": "execute_result",
          "data": {
            "text/plain": [
              "LinearRegression()"
            ]
          },
          "metadata": {},
          "execution_count": 157
        }
      ]
    },
    {
      "cell_type": "code",
      "metadata": {
        "colab": {
          "base_uri": "https://localhost:8080/"
        },
        "id": "Lfyvsa7ykP7a",
        "outputId": "72df1321-adf3-4027-90b7-3f02f032d880"
      },
      "source": [
        "#Getting the Coefficient\n",
        "regs.coef_"
      ],
      "execution_count": 158,
      "outputs": [
        {
          "output_type": "execute_result",
          "data": {
            "text/plain": [
              "array([-0.36454031])"
            ]
          },
          "metadata": {},
          "execution_count": 158
        }
      ]
    },
    {
      "cell_type": "code",
      "metadata": {
        "colab": {
          "base_uri": "https://localhost:8080/"
        },
        "id": "8wU84Yttkctb",
        "outputId": "017e7131-dac4-4597-baef-a28484b2397c"
      },
      "source": [
        "#Getting the Intercept\n",
        "regs.intercept_"
      ],
      "execution_count": 159,
      "outputs": [
        {
          "output_type": "execute_result",
          "data": {
            "text/plain": [
              "174.10931736603683"
            ]
          },
          "metadata": {},
          "execution_count": 159
        }
      ]
    },
    {
      "cell_type": "code",
      "metadata": {
        "colab": {
          "base_uri": "https://localhost:8080/"
        },
        "id": "22Ew8uxCkhWB",
        "outputId": "c51403af-d520-4e49-fcfd-13d930ad9e36"
      },
      "source": [
        "#Predicting the price of an AirBnb with number of reviews - implying popularity\n",
        "regs.predict([[4]])"
      ],
      "execution_count": 160,
      "outputs": [
        {
          "output_type": "execute_result",
          "data": {
            "text/plain": [
              "array([172.65115614])"
            ]
          },
          "metadata": {},
          "execution_count": 160
        }
      ]
    },
    {
      "cell_type": "markdown",
      "metadata": {
        "id": "kYo-O_wArYPq"
      },
      "source": [
        "##Training the model with minimum_nights and price to predict price of properties on AirBnb listings - avg price"
      ]
    },
    {
      "cell_type": "code",
      "metadata": {
        "colab": {
          "base_uri": "https://localhost:8080/"
        },
        "id": "WopP5_OAlaVM",
        "outputId": "24e5fcb1-eb51-43f0-ecd8-94b751b87cad"
      },
      "source": [
        "from sklearn import linear_model\n",
        "\n",
        "regs = linear_model.LinearRegression()\n",
        "regs.fit(df[['minimum_nights']], df['price'])"
      ],
      "execution_count": 161,
      "outputs": [
        {
          "output_type": "execute_result",
          "data": {
            "text/plain": [
              "LinearRegression()"
            ]
          },
          "metadata": {},
          "execution_count": 161
        }
      ]
    },
    {
      "cell_type": "code",
      "metadata": {
        "colab": {
          "base_uri": "https://localhost:8080/"
        },
        "id": "1M_WmjhMlzSW",
        "outputId": "0085ebf8-e10c-4e11-cf3e-fbd5577ff763"
      },
      "source": [
        "#Getting the Coefficient\n",
        "regs.coef_"
      ],
      "execution_count": 162,
      "outputs": [
        {
          "output_type": "execute_result",
          "data": {
            "text/plain": [
              "array([0.5024967])"
            ]
          },
          "metadata": {},
          "execution_count": 162
        }
      ]
    },
    {
      "cell_type": "code",
      "metadata": {
        "id": "1oe65L2kl1uk",
        "colab": {
          "base_uri": "https://localhost:8080/"
        },
        "outputId": "348365dc-5fe9-470c-dac9-a13a7ff6f124"
      },
      "source": [
        "#Getting the Intercept\n",
        "regs.intercept_"
      ],
      "execution_count": 163,
      "outputs": [
        {
          "output_type": "execute_result",
          "data": {
            "text/plain": [
              "148.95084674450146"
            ]
          },
          "metadata": {},
          "execution_count": 163
        }
      ]
    },
    {
      "cell_type": "code",
      "metadata": {
        "colab": {
          "base_uri": "https://localhost:8080/"
        },
        "id": "EVX95bdjl3xb",
        "outputId": "388d33f6-4563-46f5-bdf9-354504c13c58"
      },
      "source": [
        "#Predicting the price of an AirBnb with minimum nights stay - implying avg price\n",
        "regs.predict([[4]])"
      ],
      "execution_count": 164,
      "outputs": [
        {
          "output_type": "execute_result",
          "data": {
            "text/plain": [
              "array([150.96083356])"
            ]
          },
          "metadata": {},
          "execution_count": 164
        }
      ]
    },
    {
      "cell_type": "markdown",
      "metadata": {
        "id": "nTDrwFsVbyP6"
      },
      "source": [
        "#**Exhaustive Search using Faiss**\n",
        "\n",
        "Exhaustic search using Fiass Library.\n",
        "\n",
        "Faiss is a library used for making the similarity search more efficient and clustering of dense vectors.\n",
        "\n",
        "The algorithms can search in sets of vectors of any size.\n",
        "\n",
        "Exhaustive Search is the only available method for guaranteed retrieval of the exact nearest neighbor is exhaustive search."
      ]
    },
    {
      "cell_type": "markdown",
      "metadata": {
        "id": "5QhgHBlwjT7I"
      },
      "source": [
        "**Selected 5000 dataset to perform the Exhaustive Search Algorithm**"
      ]
    },
    {
      "cell_type": "code",
      "metadata": {
        "id": "YiS5_z8eUA0s"
      },
      "source": [
        "airbnb_df = df_price_check['name'].copy()"
      ],
      "execution_count": 165,
      "outputs": []
    },
    {
      "cell_type": "code",
      "metadata": {
        "id": "-Oi1rWlQ2Kkv"
      },
      "source": [
        "airbnb_df2 = airbnb_df.head(5000).copy()"
      ],
      "execution_count": 166,
      "outputs": []
    },
    {
      "cell_type": "code",
      "metadata": {
        "id": "4VvaB94pUA0s"
      },
      "source": [
        "df_vec = df_price_check.copy()"
      ],
      "execution_count": 167,
      "outputs": []
    },
    {
      "cell_type": "markdown",
      "metadata": {
        "id": "nzjoSFXcjhhY"
      },
      "source": [
        "###**Performing vectorization on the dataset**"
      ]
    },
    {
      "cell_type": "code",
      "metadata": {
        "id": "C3sMPUwDUA0s"
      },
      "source": [
        "df_vec = df_vec[['latitude', 'longitude', 'price']]"
      ],
      "execution_count": 168,
      "outputs": []
    },
    {
      "cell_type": "code",
      "metadata": {
        "id": "AwIgMZjS2qmP"
      },
      "source": [
        "df_vec2 = df_vec.head(5000).copy()"
      ],
      "execution_count": 169,
      "outputs": []
    },
    {
      "cell_type": "code",
      "metadata": {
        "id": "L0bg0u3WUA0t"
      },
      "source": [
        "numpy_array = np.array(airbnb_df2)"
      ],
      "execution_count": 170,
      "outputs": []
    },
    {
      "cell_type": "code",
      "metadata": {
        "colab": {
          "base_uri": "https://localhost:8080/"
        },
        "id": "l8Xd2PMOUA0t",
        "outputId": "fe075395-1fe8-414b-e136-bc5c9ddc9b4b"
      },
      "source": [
        "numpy_array"
      ],
      "execution_count": 171,
      "outputs": [
        {
          "output_type": "execute_result",
          "data": {
            "text/plain": [
              "array(['Clean & quiet apt home by the park', 'Skylit Midtown Castle',\n",
              "       'THE VILLAGE OF HARLEM....NEW YORK !', ...,\n",
              "       'Modern Vibrant Large Cozy Bedroom* 正面能量',\n",
              "       'BRAND NEW 1BD / STEPS CENTRAL PARK!',\n",
              "       'Share quiet, clean and spacious apt'], dtype=object)"
            ]
          },
          "metadata": {},
          "execution_count": 171
        }
      ]
    },
    {
      "cell_type": "code",
      "metadata": {
        "colab": {
          "base_uri": "https://localhost:8080/",
          "height": 419
        },
        "id": "mejubuJhUA0t",
        "outputId": "266d5816-8f70-4ed4-8e37-719347888f68"
      },
      "source": [
        "df_vec2"
      ],
      "execution_count": 172,
      "outputs": [
        {
          "output_type": "execute_result",
          "data": {
            "text/html": [
              "<div>\n",
              "<style scoped>\n",
              "    .dataframe tbody tr th:only-of-type {\n",
              "        vertical-align: middle;\n",
              "    }\n",
              "\n",
              "    .dataframe tbody tr th {\n",
              "        vertical-align: top;\n",
              "    }\n",
              "\n",
              "    .dataframe thead th {\n",
              "        text-align: right;\n",
              "    }\n",
              "</style>\n",
              "<table border=\"1\" class=\"dataframe\">\n",
              "  <thead>\n",
              "    <tr style=\"text-align: right;\">\n",
              "      <th></th>\n",
              "      <th>latitude</th>\n",
              "      <th>longitude</th>\n",
              "      <th>price</th>\n",
              "    </tr>\n",
              "  </thead>\n",
              "  <tbody>\n",
              "    <tr>\n",
              "      <th>0</th>\n",
              "      <td>40.64749</td>\n",
              "      <td>-73.97237</td>\n",
              "      <td>149</td>\n",
              "    </tr>\n",
              "    <tr>\n",
              "      <th>1</th>\n",
              "      <td>40.75362</td>\n",
              "      <td>-73.98377</td>\n",
              "      <td>225</td>\n",
              "    </tr>\n",
              "    <tr>\n",
              "      <th>2</th>\n",
              "      <td>40.80902</td>\n",
              "      <td>-73.94190</td>\n",
              "      <td>150</td>\n",
              "    </tr>\n",
              "    <tr>\n",
              "      <th>3</th>\n",
              "      <td>40.68514</td>\n",
              "      <td>-73.95976</td>\n",
              "      <td>89</td>\n",
              "    </tr>\n",
              "    <tr>\n",
              "      <th>5</th>\n",
              "      <td>40.74767</td>\n",
              "      <td>-73.97500</td>\n",
              "      <td>200</td>\n",
              "    </tr>\n",
              "    <tr>\n",
              "      <th>...</th>\n",
              "      <td>...</td>\n",
              "      <td>...</td>\n",
              "      <td>...</td>\n",
              "    </tr>\n",
              "    <tr>\n",
              "      <th>8016</th>\n",
              "      <td>40.68678</td>\n",
              "      <td>-73.96044</td>\n",
              "      <td>100</td>\n",
              "    </tr>\n",
              "    <tr>\n",
              "      <th>8018</th>\n",
              "      <td>40.57770</td>\n",
              "      <td>-73.93988</td>\n",
              "      <td>45</td>\n",
              "    </tr>\n",
              "    <tr>\n",
              "      <th>8020</th>\n",
              "      <td>40.82122</td>\n",
              "      <td>-73.92773</td>\n",
              "      <td>56</td>\n",
              "    </tr>\n",
              "    <tr>\n",
              "      <th>8022</th>\n",
              "      <td>40.76877</td>\n",
              "      <td>-73.98460</td>\n",
              "      <td>87</td>\n",
              "    </tr>\n",
              "    <tr>\n",
              "      <th>8023</th>\n",
              "      <td>40.63438</td>\n",
              "      <td>-74.11518</td>\n",
              "      <td>40</td>\n",
              "    </tr>\n",
              "  </tbody>\n",
              "</table>\n",
              "<p>5000 rows × 3 columns</p>\n",
              "</div>"
            ],
            "text/plain": [
              "      latitude  longitude  price\n",
              "0     40.64749  -73.97237    149\n",
              "1     40.75362  -73.98377    225\n",
              "2     40.80902  -73.94190    150\n",
              "3     40.68514  -73.95976     89\n",
              "5     40.74767  -73.97500    200\n",
              "...        ...        ...    ...\n",
              "8016  40.68678  -73.96044    100\n",
              "8018  40.57770  -73.93988     45\n",
              "8020  40.82122  -73.92773     56\n",
              "8022  40.76877  -73.98460     87\n",
              "8023  40.63438  -74.11518     40\n",
              "\n",
              "[5000 rows x 3 columns]"
            ]
          },
          "metadata": {},
          "execution_count": 172
        }
      ]
    },
    {
      "cell_type": "code",
      "metadata": {
        "id": "ez72GPaHUA0u"
      },
      "source": [
        "df_vec2['latitude'] = df_vec2.latitude.values * 1.05 + 1"
      ],
      "execution_count": 173,
      "outputs": []
    },
    {
      "cell_type": "code",
      "metadata": {
        "id": "smKklh8iUA0u"
      },
      "source": [
        "df_vec2['longitude'] = df_vec2.longitude.values * 1.05 + 1"
      ],
      "execution_count": 174,
      "outputs": []
    },
    {
      "cell_type": "code",
      "metadata": {
        "id": "1yOnbRfXUA0u"
      },
      "source": [
        "df_vec2['price'] = df_vec2.price.values * 1.05 + 1"
      ],
      "execution_count": 175,
      "outputs": []
    },
    {
      "cell_type": "code",
      "metadata": {
        "colab": {
          "base_uri": "https://localhost:8080/",
          "height": 419
        },
        "id": "aOnLssdpUA0u",
        "outputId": "791b4ec0-72b2-48a5-d38c-74d137543bdc"
      },
      "source": [
        "df_vec2"
      ],
      "execution_count": 176,
      "outputs": [
        {
          "output_type": "execute_result",
          "data": {
            "text/html": [
              "<div>\n",
              "<style scoped>\n",
              "    .dataframe tbody tr th:only-of-type {\n",
              "        vertical-align: middle;\n",
              "    }\n",
              "\n",
              "    .dataframe tbody tr th {\n",
              "        vertical-align: top;\n",
              "    }\n",
              "\n",
              "    .dataframe thead th {\n",
              "        text-align: right;\n",
              "    }\n",
              "</style>\n",
              "<table border=\"1\" class=\"dataframe\">\n",
              "  <thead>\n",
              "    <tr style=\"text-align: right;\">\n",
              "      <th></th>\n",
              "      <th>latitude</th>\n",
              "      <th>longitude</th>\n",
              "      <th>price</th>\n",
              "    </tr>\n",
              "  </thead>\n",
              "  <tbody>\n",
              "    <tr>\n",
              "      <th>0</th>\n",
              "      <td>43.679865</td>\n",
              "      <td>-76.670989</td>\n",
              "      <td>157.45</td>\n",
              "    </tr>\n",
              "    <tr>\n",
              "      <th>1</th>\n",
              "      <td>43.791301</td>\n",
              "      <td>-76.682958</td>\n",
              "      <td>237.25</td>\n",
              "    </tr>\n",
              "    <tr>\n",
              "      <th>2</th>\n",
              "      <td>43.849471</td>\n",
              "      <td>-76.638995</td>\n",
              "      <td>158.50</td>\n",
              "    </tr>\n",
              "    <tr>\n",
              "      <th>3</th>\n",
              "      <td>43.719397</td>\n",
              "      <td>-76.657748</td>\n",
              "      <td>94.45</td>\n",
              "    </tr>\n",
              "    <tr>\n",
              "      <th>5</th>\n",
              "      <td>43.785054</td>\n",
              "      <td>-76.673750</td>\n",
              "      <td>211.00</td>\n",
              "    </tr>\n",
              "    <tr>\n",
              "      <th>...</th>\n",
              "      <td>...</td>\n",
              "      <td>...</td>\n",
              "      <td>...</td>\n",
              "    </tr>\n",
              "    <tr>\n",
              "      <th>8016</th>\n",
              "      <td>43.721119</td>\n",
              "      <td>-76.658462</td>\n",
              "      <td>106.00</td>\n",
              "    </tr>\n",
              "    <tr>\n",
              "      <th>8018</th>\n",
              "      <td>43.606585</td>\n",
              "      <td>-76.636874</td>\n",
              "      <td>48.25</td>\n",
              "    </tr>\n",
              "    <tr>\n",
              "      <th>8020</th>\n",
              "      <td>43.862281</td>\n",
              "      <td>-76.624117</td>\n",
              "      <td>59.80</td>\n",
              "    </tr>\n",
              "    <tr>\n",
              "      <th>8022</th>\n",
              "      <td>43.807209</td>\n",
              "      <td>-76.683830</td>\n",
              "      <td>92.35</td>\n",
              "    </tr>\n",
              "    <tr>\n",
              "      <th>8023</th>\n",
              "      <td>43.666099</td>\n",
              "      <td>-76.820939</td>\n",
              "      <td>43.00</td>\n",
              "    </tr>\n",
              "  </tbody>\n",
              "</table>\n",
              "<p>5000 rows × 3 columns</p>\n",
              "</div>"
            ],
            "text/plain": [
              "       latitude  longitude   price\n",
              "0     43.679865 -76.670989  157.45\n",
              "1     43.791301 -76.682958  237.25\n",
              "2     43.849471 -76.638995  158.50\n",
              "3     43.719397 -76.657748   94.45\n",
              "5     43.785054 -76.673750  211.00\n",
              "...         ...        ...     ...\n",
              "8016  43.721119 -76.658462  106.00\n",
              "8018  43.606585 -76.636874   48.25\n",
              "8020  43.862281 -76.624117   59.80\n",
              "8022  43.807209 -76.683830   92.35\n",
              "8023  43.666099 -76.820939   43.00\n",
              "\n",
              "[5000 rows x 3 columns]"
            ]
          },
          "metadata": {},
          "execution_count": 176
        }
      ]
    },
    {
      "cell_type": "code",
      "metadata": {
        "id": "G5T6_ZGKUA0u"
      },
      "source": [
        "vec = np.array(df_vec2)"
      ],
      "execution_count": 177,
      "outputs": []
    },
    {
      "cell_type": "code",
      "metadata": {
        "colab": {
          "base_uri": "https://localhost:8080/"
        },
        "id": "HZE7y4RzUA0u",
        "outputId": "ffe1e1ff-ec7c-4b8f-bfe0-66ff6abd8a28"
      },
      "source": [
        "vec"
      ],
      "execution_count": 178,
      "outputs": [
        {
          "output_type": "execute_result",
          "data": {
            "text/plain": [
              "array([[ 43.6798645, -76.6709885, 157.45     ],\n",
              "       [ 43.791301 , -76.6829585, 237.25     ],\n",
              "       [ 43.849471 , -76.638995 , 158.5      ],\n",
              "       ...,\n",
              "       [ 43.862281 , -76.6241165,  59.8      ],\n",
              "       [ 43.8072085, -76.68383  ,  92.35     ],\n",
              "       [ 43.666099 , -76.820939 ,  43.       ]])"
            ]
          },
          "metadata": {},
          "execution_count": 178
        }
      ]
    },
    {
      "cell_type": "markdown",
      "metadata": {
        "id": "_vC3UWfvjvbp"
      },
      "source": [
        "###**Installing Faiss which is a library that performs the similarity search efficiently and clustering of dense vectors**"
      ]
    },
    {
      "cell_type": "code",
      "metadata": {
        "colab": {
          "base_uri": "https://localhost:8080/"
        },
        "id": "S_YGihwNUA0v",
        "outputId": "46937854-d405-4405-a2ca-9627dc928193"
      },
      "source": [
        "!pip install faiss"
      ],
      "execution_count": 179,
      "outputs": [
        {
          "output_type": "stream",
          "name": "stdout",
          "text": [
            "Requirement already satisfied: faiss in /usr/local/lib/python3.7/dist-packages (1.5.3)\n",
            "Requirement already satisfied: numpy in /usr/local/lib/python3.7/dist-packages (from faiss) (1.19.5)\n"
          ]
        }
      ]
    },
    {
      "cell_type": "code",
      "metadata": {
        "colab": {
          "base_uri": "https://localhost:8080/"
        },
        "id": "Eek_PQPyUA0v",
        "outputId": "93d5a38f-f7be-4a94-e222-36bb6dd9e0c3"
      },
      "source": [
        "!apt install libomp-dev\n",
        "!python -m pip install --upgrade faiss faiss-gpu\n",
        "import faiss"
      ],
      "execution_count": 180,
      "outputs": [
        {
          "output_type": "stream",
          "name": "stdout",
          "text": [
            "Reading package lists... Done\n",
            "Building dependency tree       \n",
            "Reading state information... Done\n",
            "libomp-dev is already the newest version (5.0.1-1).\n",
            "0 upgraded, 0 newly installed, 0 to remove and 37 not upgraded.\n",
            "Requirement already satisfied: faiss in /usr/local/lib/python3.7/dist-packages (1.5.3)\n",
            "Requirement already satisfied: faiss-gpu in /usr/local/lib/python3.7/dist-packages (1.7.1.post2)\n",
            "Requirement already satisfied: numpy in /usr/local/lib/python3.7/dist-packages (from faiss) (1.19.5)\n"
          ]
        }
      ]
    },
    {
      "cell_type": "code",
      "metadata": {
        "id": "KCgH0TLWUA0v"
      },
      "source": [
        "vectors=np.ascontiguousarray(vec)"
      ],
      "execution_count": 181,
      "outputs": []
    },
    {
      "cell_type": "code",
      "metadata": {
        "colab": {
          "base_uri": "https://localhost:8080/"
        },
        "id": "CV480w2ZUA0v",
        "outputId": "c789b28d-52fa-4e73-9606-a9356972cc71"
      },
      "source": [
        "vectors.flags"
      ],
      "execution_count": 182,
      "outputs": [
        {
          "output_type": "execute_result",
          "data": {
            "text/plain": [
              "  C_CONTIGUOUS : True\n",
              "  F_CONTIGUOUS : False\n",
              "  OWNDATA : True\n",
              "  WRITEABLE : True\n",
              "  ALIGNED : True\n",
              "  WRITEBACKIFCOPY : False\n",
              "  UPDATEIFCOPY : False"
            ]
          },
          "metadata": {},
          "execution_count": 182
        }
      ]
    },
    {
      "cell_type": "code",
      "metadata": {
        "id": "7oS3s5voUA0v"
      },
      "source": [
        "vectors = vectors.astype('float32')"
      ],
      "execution_count": 183,
      "outputs": []
    },
    {
      "cell_type": "markdown",
      "metadata": {
        "id": "raG3jZtnkV4H"
      },
      "source": [
        "**Building the index with airbnb dataset**"
      ]
    },
    {
      "cell_type": "code",
      "metadata": {
        "colab": {
          "base_uri": "https://localhost:8080/"
        },
        "id": "0C7JyAjmUA0v",
        "outputId": "aa2bf32e-a3b2-41ec-a9ab-60ecf096f36a"
      },
      "source": [
        "import faiss\n",
        "faiss.MatrixStats(vectors).comments.split(\"\\n\")"
      ],
      "execution_count": 184,
      "outputs": [
        {
          "output_type": "execute_result",
          "data": {
            "text/plain": [
              "['analyzing 5000 vectors of size 3',\n",
              " 'no NaN or Infs in data',\n",
              " 'all vectors are distinct',\n",
              " 'range of L2 norms=[92.3385, 8401.46] (0 null vectors)',\n",
              " 'matrix contains no 0s',\n",
              " 'no constant dimensions',\n",
              " 'no dimension has a too large mean',\n",
              " 'stddevs per dimension are in [0.0414656 251.17]',\n",
              " '']"
            ]
          },
          "metadata": {},
          "execution_count": 184
        }
      ]
    },
    {
      "cell_type": "code",
      "metadata": {
        "id": "zhjxqlIJUA0v"
      },
      "source": [
        "index = faiss.IndexFlatL2(vectors.shape[1])\n",
        "index.add(vectors)"
      ],
      "execution_count": 185,
      "outputs": []
    },
    {
      "cell_type": "code",
      "metadata": {
        "id": "6Xz8omfdUA0v"
      },
      "source": [
        "search_vector = vectors[90:91]\n",
        "distances, indices = index.search(search_vector, 10)"
      ],
      "execution_count": 186,
      "outputs": []
    },
    {
      "cell_type": "markdown",
      "metadata": {
        "id": "6oh6B1-_k7Yg"
      },
      "source": [
        "###**Result: We found that the most similar hotels by passing a hotel name in the function**\n",
        "\n",
        "The most similar AirBnb Properties to Monkey Retreat Manhattan are:\n",
        "['Monkey Retreat Manhattan', 'Charming Private Room', 'Gorgeous apt. steps from subway', 'HARLEM, NEW YORK WELCOMES YOU!!', 'Cozy Harlem Experience']"
      ]
    },
    {
      "cell_type": "code",
      "metadata": {
        "colab": {
          "base_uri": "https://localhost:8080/"
        },
        "id": "8ebyf-5jUA0w",
        "outputId": "0fe47608-15af-4d31-825f-0d8f6943e5be"
      },
      "source": [
        "print(f\"The most similar hotels to {numpy_array[85]} are:\\n\")\n",
        "print([numpy_array[i] for i in indices[0]])"
      ],
      "execution_count": 187,
      "outputs": [
        {
          "output_type": "stream",
          "name": "stdout",
          "text": [
            "The most similar hotels to Upper Manhattan, New York are:\n",
            "\n",
            "['Monkey Retreat Manhattan', 'Charming Private Room', 'Gorgeous apt. steps from subway', 'HARLEM, NEW YORK WELCOMES YOU!!', 'Cozy Harlem Experience', 'Cozy  and sunny room in Manhattan', 'Small, Cozy, Clean and Modern private room!', 'Spacious very High ceiling place !', 'Great and private place to stay in Manhattan!', 'Convenience & Chill']\n"
          ]
        }
      ]
    },
    {
      "cell_type": "code",
      "metadata": {
        "id": "thU1XND_UA0w"
      },
      "source": [
        "quantizer = faiss.IndexFlatL2(vectors.shape[1])\n",
        "index = faiss.IndexIVFFlat(quantizer, \n",
        "                           vectors.shape[1], \n",
        "                           100)               # search_in_x_partitions\n",
        "index.train(vectors)\n",
        "index.add(vectors)"
      ],
      "execution_count": 188,
      "outputs": []
    },
    {
      "cell_type": "code",
      "metadata": {
        "id": "Lskc1LjYUA0w"
      },
      "source": [
        "search_vector = vectors[90:91]"
      ],
      "execution_count": 189,
      "outputs": []
    },
    {
      "cell_type": "code",
      "metadata": {
        "id": "OdEUSzmsUA0w"
      },
      "source": [
        " distances, indices = index.search(search_vector, 5)"
      ],
      "execution_count": 190,
      "outputs": []
    },
    {
      "cell_type": "code",
      "metadata": {
        "colab": {
          "base_uri": "https://localhost:8080/"
        },
        "id": "C-YoUOyoyhR4",
        "outputId": "579e9259-c451-4c94-f4dd-29171126ea0c"
      },
      "source": [
        "print(f\"The most similar hotels to {numpy_array[90]} are:\\n\")\n",
        "print([numpy_array[i] for i in indices[0]])"
      ],
      "execution_count": 191,
      "outputs": [
        {
          "output_type": "stream",
          "name": "stdout",
          "text": [
            "The most similar hotels to Monkey Retreat Manhattan are:\n",
            "\n",
            "['Monkey Retreat Manhattan', 'Charming Private Room', 'Gorgeous apt. steps from subway', 'HARLEM, NEW YORK WELCOMES YOU!!', 'Cozy Harlem Experience']\n"
          ]
        }
      ]
    },
    {
      "cell_type": "markdown",
      "metadata": {
        "id": "pQ8viUGr5Dck"
      },
      "source": [
        "#**Product Quantization**\n",
        "\n",
        "Defining the function that performs the Vector Encoding and returns the most similar hotels to the hotel that are passed into the function.\n",
        "\n",
        "Quantization-based algorithms are one of the most common strategies when it comes to ANN.\n",
        "\n",
        "Reduces the dataset size from linear to quantizer by defining a function that encodes the dataset into a compact approximated representation."
      ]
    },
    {
      "cell_type": "code",
      "metadata": {
        "id": "J0ZvhWFX5DNg"
      },
      "source": [
        "quantizer = faiss.IndexFlatL2(vectors.shape[1])\n",
        "index = faiss.IndexIVFPQ(quantizer, \n",
        "                         vectors.shape[1], \n",
        "                         100,             # number_of_partition,\n",
        "                         3,               # search_in_x_partitions, \n",
        "                         6)               # subvector_size\n",
        "index.train(vectors)\n",
        "index.add(vectors)"
      ],
      "execution_count": 192,
      "outputs": []
    },
    {
      "cell_type": "code",
      "metadata": {
        "id": "4vZe8w2DQK71"
      },
      "source": [
        "search_vector = vectors[90:91]\n",
        "distances, indices = index.search(search_vector, 10)"
      ],
      "execution_count": 193,
      "outputs": []
    },
    {
      "cell_type": "markdown",
      "metadata": {
        "id": "45dNRAaMlhOu"
      },
      "source": [
        "###**Result: We found that the result of the vector encoding is similar to the Exhaustive Search algorithm**\n",
        "\n",
        "The most similar hotels to Monkey Retreat Manhattan are:\n",
        "['Monkey Retreat Manhattan', 'HARLEM, NEW YORK WELCOMES YOU!!', 'Charming Private Room', 'Gorgeous apt. steps from subway', 'Budget/diamond in heart of Harlem', 'Spacious very High ceiling place !', 'Cozy and sunny room in Manhattan', 'Cozy Harlem Experience', 'Convenience & Chill', 'Small, Cozy, Clean and Modern private room"
      ]
    },
    {
      "cell_type": "code",
      "metadata": {
        "colab": {
          "base_uri": "https://localhost:8080/"
        },
        "id": "x-6FMzaIQPGc",
        "outputId": "0264768e-2ad2-4fd6-f4c7-03c4b0903ec3"
      },
      "source": [
        "print(f\"The most similar hotels to {numpy_array[90]} are:\\n\")\n",
        "print([numpy_array[i] for i in indices[0]])"
      ],
      "execution_count": 194,
      "outputs": [
        {
          "output_type": "stream",
          "name": "stdout",
          "text": [
            "The most similar hotels to Monkey Retreat Manhattan are:\n",
            "\n",
            "['Monkey Retreat Manhattan', 'HARLEM, NEW YORK WELCOMES YOU!!', 'Charming Private Room', 'Gorgeous apt. steps from subway', 'Budget/diamond in heart of Harlem', 'Spacious very High ceiling place !', 'Cozy  and sunny room in Manhattan', 'Cozy Harlem Experience', 'Convenience & Chill', 'Small, Cozy, Clean and Modern private room!']\n"
          ]
        }
      ]
    },
    {
      "cell_type": "markdown",
      "metadata": {
        "id": "yEowpGo68YdK"
      },
      "source": [
        "#**LSH (Locality Sensitive Hashing)**\n",
        "\n",
        "LSH-based algorithms are one of the most common strategies when it comes to ANN.\n",
        "They construct a hash table as their data structure by mapping points that are nearby into the same bucket. A larger value will give more accurate results, but larger indexes."
      ]
    },
    {
      "cell_type": "code",
      "metadata": {
        "id": "_4MhBxjQ4-r4"
      },
      "source": [
        "class LSHIndex():\n",
        "  def __init__(self, vectors, labels):\n",
        "        self.dimension = vectors.shape[1]\n",
        "        self.vectors = vectors.astype('float32')\n",
        "        self.labels = labels    \n",
        "   \n",
        "  def build(self, num_bits=8):\n",
        "        self.index = faiss.IndexLSH(self.dimension, num_bits)\n",
        "        self.index.add(self.vectors)\n",
        "\n",
        "  def query(self, vectors, k=10):\n",
        "        distances, indices = self.index.search(vectors, k) \n",
        "        # I expect only query on one vector thus the slice\n",
        "        return [self.labels[i] for i in indices[0]]"
      ],
      "execution_count": 195,
      "outputs": []
    },
    {
      "cell_type": "code",
      "metadata": {
        "id": "1PpuzId8BAQM"
      },
      "source": [
        "index = LSHIndex(vectors,numpy_array)\n",
        "index.build()"
      ],
      "execution_count": 196,
      "outputs": []
    },
    {
      "cell_type": "code",
      "metadata": {
        "colab": {
          "base_uri": "https://localhost:8080/"
        },
        "id": "MOVs4bxUBJ3h",
        "outputId": "e5f5bc23-4df8-45b0-fdaa-c6177027182d"
      },
      "source": [
        "index.query(vectors)"
      ],
      "execution_count": 198,
      "outputs": [
        {
          "output_type": "execute_result",
          "data": {
            "text/plain": [
              "['Modern 1 BR / NYC / EAST VILLAGE',\n",
              " 'BEST BET IN HARLEM',\n",
              " 'Country space in the city',\n",
              " 'THE VILLAGE OF HARLEM....NEW YORK !',\n",
              " 'Cute & Cozy Lower East Side 1 bdrm',\n",
              " 'Entire apartment in central Brooklyn neighborhood.',\n",
              " 'Cozy 1BD on Central Park West in New York City',\n",
              " 'Greenpoint Place...Has It All! ',\n",
              " 'Midtown Pied-a-terre',\n",
              " 'Clean & quiet apt home by the park']"
            ]
          },
          "metadata": {},
          "execution_count": 198
        }
      ]
    },
    {
      "cell_type": "markdown",
      "metadata": {
        "id": "TW2LvmCEOnkm"
      },
      "source": [
        "###**Result: We found that the result of the LSH is similar to the Exhaustive Search algorithm**\n",
        "\n",
        "The most similar properties to ['Modern 1 BR / NYC / EAST VILLAGE', 'BEST BET IN HARLEM', 'Country space in the city', 'THE VILLAGE OF HARLEM....NEW YORK !', 'Cute & Cozy Lower East Side 1 bdrm', 'Entire apartment in central Brooklyn neighborhood.', 'Cozy 1BD on Central Park West in New York City', 'Greenpoint Place...Has It All! ', 'Midtown Pied-a-terre', 'Clean & quiet apt home by the park'] are:\n",
        "\n",
        "['Monkey Retreat Manhattan', 'HARLEM, NEW YORK WELCOMES YOU!!', 'Charming Private Room', 'Gorgeous apt. steps from subway', 'Budget/diamond in heart of Harlem', 'Spacious very High ceiling place !', 'Cozy  and sunny room in Manhattan', 'Cozy Harlem Experience', 'Convenience & Chill', 'Small, Cozy, Clean and Modern private room!']\n",
        "\n",
        "\n"
      ]
    },
    {
      "cell_type": "code",
      "metadata": {
        "colab": {
          "base_uri": "https://localhost:8080/"
        },
        "id": "O8tdLaDjmxTH",
        "outputId": "ab9da690-5d8e-47f2-8650-167498295764"
      },
      "source": [
        "print(f\"The most similar properties to {index.query(vectors)} are:\\n\")\n",
        "print([numpy_array[i] for i in indices[0]])"
      ],
      "execution_count": 199,
      "outputs": [
        {
          "output_type": "stream",
          "name": "stdout",
          "text": [
            "The most similar hotels to ['Modern 1 BR / NYC / EAST VILLAGE', 'BEST BET IN HARLEM', 'Country space in the city', 'THE VILLAGE OF HARLEM....NEW YORK !', 'Cute & Cozy Lower East Side 1 bdrm', 'Entire apartment in central Brooklyn neighborhood.', 'Cozy 1BD on Central Park West in New York City', 'Greenpoint Place...Has It All! ', 'Midtown Pied-a-terre', 'Clean & quiet apt home by the park'] are:\n",
            "\n",
            "['Monkey Retreat Manhattan', 'HARLEM, NEW YORK WELCOMES YOU!!', 'Charming Private Room', 'Gorgeous apt. steps from subway', 'Budget/diamond in heart of Harlem', 'Spacious very High ceiling place !', 'Cozy  and sunny room in Manhattan', 'Cozy Harlem Experience', 'Convenience & Chill', 'Small, Cozy, Clean and Modern private room!']\n"
          ]
        }
      ]
    },
    {
      "cell_type": "markdown",
      "metadata": {
        "id": "R695RVE_APim"
      },
      "source": [
        "#**Hierarchical Navigable Small World Graphs**\n",
        "\n",
        "**Created an index class by defining NMSLIB index class with the Airbnb datasets**\n",
        "\n",
        "**Installed the nmslib library which is cross platform similarity search library**"
      ]
    },
    {
      "cell_type": "code",
      "metadata": {
        "colab": {
          "base_uri": "https://localhost:8080/"
        },
        "id": "CJTAW5h9BVy5",
        "outputId": "f15a2b2c-1b01-48a2-ca86-117f173bc563"
      },
      "source": [
        "vec"
      ],
      "execution_count": 200,
      "outputs": [
        {
          "output_type": "execute_result",
          "data": {
            "text/plain": [
              "array([[ 43.6798645, -76.6709885, 157.45     ],\n",
              "       [ 43.791301 , -76.6829585, 237.25     ],\n",
              "       [ 43.849471 , -76.638995 , 158.5      ],\n",
              "       ...,\n",
              "       [ 43.862281 , -76.6241165,  59.8      ],\n",
              "       [ 43.8072085, -76.68383  ,  92.35     ],\n",
              "       [ 43.666099 , -76.820939 ,  43.       ]])"
            ]
          },
          "metadata": {},
          "execution_count": 200
        }
      ]
    },
    {
      "cell_type": "code",
      "metadata": {
        "colab": {
          "base_uri": "https://localhost:8080/"
        },
        "id": "x7shhfnSBnNp",
        "outputId": "5028fc74-db70-4f75-bc23-ab68cdfe2d46"
      },
      "source": [
        "numpy_array"
      ],
      "execution_count": 201,
      "outputs": [
        {
          "output_type": "execute_result",
          "data": {
            "text/plain": [
              "array(['Clean & quiet apt home by the park', 'Skylit Midtown Castle',\n",
              "       'THE VILLAGE OF HARLEM....NEW YORK !', ...,\n",
              "       'Modern Vibrant Large Cozy Bedroom* 正面能量',\n",
              "       'BRAND NEW 1BD / STEPS CENTRAL PARK!',\n",
              "       'Share quiet, clean and spacious apt'], dtype=object)"
            ]
          },
          "metadata": {},
          "execution_count": 201
        }
      ]
    },
    {
      "cell_type": "code",
      "metadata": {
        "colab": {
          "base_uri": "https://localhost:8080/"
        },
        "id": "l6AWC85TCuno",
        "outputId": "bf480fa9-07e8-4939-9536-5966ac80623a"
      },
      "source": [
        "pip install nmslib"
      ],
      "execution_count": 202,
      "outputs": [
        {
          "output_type": "stream",
          "name": "stdout",
          "text": [
            "Requirement already satisfied: nmslib in /usr/local/lib/python3.7/dist-packages (2.1.1)\n",
            "Requirement already satisfied: pybind11<2.6.2 in /usr/local/lib/python3.7/dist-packages (from nmslib) (2.6.1)\n",
            "Requirement already satisfied: psutil in /usr/local/lib/python3.7/dist-packages (from nmslib) (5.4.8)\n",
            "Requirement already satisfied: numpy>=1.10.0 in /usr/local/lib/python3.7/dist-packages (from nmslib) (1.19.5)\n"
          ]
        }
      ]
    },
    {
      "cell_type": "code",
      "metadata": {
        "id": "91Qa_0xUA_Ta"
      },
      "source": [
        "import nmslib\n",
        "class NMSLIBIndex():\n",
        "    def __init__(self, vectors, labels):\n",
        "        self.dimention = vectors.shape[1]\n",
        "        self.vectors = vectors.astype('float32')\n",
        "        self.labels = labels\n",
        "    def build(self):\n",
        "        self.index = nmslib.init(method='hnsw', space='cosinesimil')\n",
        "        self.index.addDataPointBatch(self.vectors)\n",
        "        self.index.createIndex({'post': 2})\n",
        "        \n",
        "    def query(self, vector, k=10):\n",
        "        indices = self.index.knnQuery(vector, k=k)\n",
        "        return [self.labels[i] for i in indices[0]]"
      ],
      "execution_count": 203,
      "outputs": []
    },
    {
      "cell_type": "code",
      "metadata": {
        "id": "mLlg4r8xBFvw"
      },
      "source": [
        "index = NMSLIBIndex(vec, numpy_array)\n",
        "index.build()"
      ],
      "execution_count": 204,
      "outputs": []
    },
    {
      "cell_type": "markdown",
      "metadata": {
        "id": "UQDNcrThoMk8"
      },
      "source": [
        "###**Result: Passing the hotel index in the function to find the similar hotels**\n",
        "\n",
        "The nearest neighbour or the most similar properties to \"Bedroom near Central Park!\" are the following\n",
        "♦ 'A room w/ a Manhattan view, longer stay', 'cozy tucked away in el barrio', 'Cozy Room in LIC, 7 min to Times Sq', 'Prime location near Central Park !!', \"Large Furnished Room Near B'way \", 'Cute Room in Historic Loft!', 'Spacious Private Bedroom Brooklyn - Williamsburg', 'DESIGNER LOFT W PRIVATE ROOFTOP & PANORAMIC VIEWS', 'Williamsburg, prime loction, Brooklyn private room'"
      ]
    },
    {
      "cell_type": "code",
      "metadata": {
        "colab": {
          "base_uri": "https://localhost:8080/"
        },
        "id": "Dlvg7HsfDFff",
        "outputId": "10cc13c1-feb3-473c-883a-b8eebecd2a70"
      },
      "source": [
        "index.query(vec[5])"
      ],
      "execution_count": 205,
      "outputs": [
        {
          "output_type": "execute_result",
          "data": {
            "text/plain": [
              "['DESIGNER LOFT W PRIVATE ROOFTOP & PANORAMIC VIEWS',\n",
              " 'Spacious Private Bedroom Brooklyn - Williamsburg',\n",
              " 'A room w/ a Manhattan view, longer stay',\n",
              " 'cozy tucked away in el barrio',\n",
              " 'Prime location near Central Park !!',\n",
              " 'Cute Room in Historic Loft!',\n",
              " 'Sexy Bedroom near Central Park!',\n",
              " 'Cozy Room in LIC, 7 min to Times Sq',\n",
              " 'Williamsburg, prime loction, Brooklyn private room',\n",
              " \"Large Furnished Room Near B'way \"]"
            ]
          },
          "metadata": {},
          "execution_count": 205
        }
      ]
    },
    {
      "cell_type": "code",
      "metadata": {
        "colab": {
          "base_uri": "https://localhost:8080/"
        },
        "id": "Tug07goun73D",
        "outputId": "9515c6d2-cbaa-4eb0-98a1-6d30f88b3886"
      },
      "source": [
        "print(f\"The most similar hotels to {index.query(vec[5])} are:\\n\")\n",
        "print([numpy_array[i] for i in indices[0]])"
      ],
      "execution_count": 207,
      "outputs": [
        {
          "output_type": "stream",
          "name": "stdout",
          "text": [
            "The most similar hotels to ['DESIGNER LOFT W PRIVATE ROOFTOP & PANORAMIC VIEWS', 'Spacious Private Bedroom Brooklyn - Williamsburg', 'A room w/ a Manhattan view, longer stay', 'cozy tucked away in el barrio', 'Prime location near Central Park !!', 'Cute Room in Historic Loft!', 'Sexy Bedroom near Central Park!', 'Cozy Room in LIC, 7 min to Times Sq', 'Williamsburg, prime loction, Brooklyn private room', \"Large Furnished Room Near B'way \"] are:\n",
            "\n",
            "['Monkey Retreat Manhattan', 'HARLEM, NEW YORK WELCOMES YOU!!', 'Charming Private Room', 'Gorgeous apt. steps from subway', 'Budget/diamond in heart of Harlem', 'Spacious very High ceiling place !', 'Cozy  and sunny room in Manhattan', 'Cozy Harlem Experience', 'Convenience & Chill', 'Small, Cozy, Clean and Modern private room!']\n"
          ]
        }
      ]
    },
    {
      "cell_type": "markdown",
      "metadata": {
        "id": "8ptUsB_-D9Q5"
      },
      "source": [
        "#**Trees and Graphs**\n",
        "\n",
        "**Implemeted the Trees and Graphs using Annoy library which construct index using the trees or forests.**\n",
        "\n",
        "**Tree-based algorithms are one of the most common strategies when it comes to ANN.** \n",
        "\n",
        "**They construct forests or teh collection of trees as their data structure by splitting the dataset into subsets.**\n",
        "\n",
        "**Accuracy performance tradeoff is controlled by :**\n",
        "\n",
        "1. Number of trees — A larger value will give more accurate results, but larger indexes.\n",
        "2. Search K — the number of binary trees we search for each point. The arger value will give more accurate results, but will take a longer time to return. "
      ]
    },
    {
      "cell_type": "code",
      "metadata": {
        "colab": {
          "base_uri": "https://localhost:8080/"
        },
        "id": "plVjH6heK_YG",
        "outputId": "b0f29ad7-8063-49f0-ef70-ee55069ca242"
      },
      "source": [
        "!pip install annoy"
      ],
      "execution_count": 83,
      "outputs": [
        {
          "output_type": "stream",
          "name": "stdout",
          "text": [
            "Requirement already satisfied: annoy in /usr/local/lib/python3.7/dist-packages (1.17.0)\n"
          ]
        }
      ]
    },
    {
      "cell_type": "markdown",
      "metadata": {
        "id": "ifc9sSGxo5xB"
      },
      "source": [
        "**Defining the index class that would be used to find the similarity between the hotels**"
      ]
    },
    {
      "cell_type": "code",
      "metadata": {
        "id": "uFfTLtxtEBcH"
      },
      "source": [
        "from annoy import AnnoyIndex\n",
        "class AnnoyIndex12():\n",
        "    def __init__(self, vectors, labels):\n",
        "        self.dimension = vectors.shape[1]\n",
        "        self.vectors = vectors.astype('float32')\n",
        "        self.labels = labels    \n",
        "   \n",
        "    def build(self, number_of_trees=5):\n",
        "        self.index = AnnoyIndex(self.dimension,'angular')\n",
        "        for i, vec in enumerate(self.vectors):\n",
        "            self.index.add_item(i, vec.tolist())\n",
        "        self.index.build(number_of_trees)\n",
        "        \n",
        "    def query(self, vector, k=10):\n",
        "        indices = self.index.get_nns_by_vector(\n",
        "              vector.tolist(), \n",
        "              k, \n",
        "              search_k=100)                                           \n",
        "        return [self.labels[i] for i in indices]"
      ],
      "execution_count": 128,
      "outputs": []
    },
    {
      "cell_type": "code",
      "metadata": {
        "id": "DosvJFdBEJwH"
      },
      "source": [
        "index = AnnoyIndex12(vec, numpy_array)\n",
        "index.build()"
      ],
      "execution_count": 129,
      "outputs": []
    },
    {
      "cell_type": "code",
      "metadata": {
        "colab": {
          "base_uri": "https://localhost:8080/"
        },
        "id": "lqNYdlcAO9ZT",
        "outputId": "0ff17f37-2d1e-4117-9aff-3923d4c9afcb"
      },
      "source": [
        "index.query(vec[0])"
      ],
      "execution_count": 130,
      "outputs": [
        {
          "output_type": "execute_result",
          "data": {
            "text/plain": [
              "['Clean & quiet apt home by the park',\n",
              " 'Beautiful Ft. Greene Apartment-NEW!',\n",
              " 'Sunny Clinton Hill Apt w/Patio',\n",
              " 'Wow!  Two Bedroom Apartment in Safe Neighborhood!',\n",
              " 'Super cool and sunny apartment in Crown Heights',\n",
              " 'Park Slope Brooklyn brownstone apt',\n",
              " 'Cinque Terre Room.  Clean and Quiet Queen Bedroom',\n",
              " 'Brooklyn Park Slope Queen Bed',\n",
              " 'The Lefferts Manor $149per night',\n",
              " \"Brooklyn's Cozy Jewel II\"]"
            ]
          },
          "metadata": {},
          "execution_count": 130
        }
      ]
    },
    {
      "cell_type": "markdown",
      "metadata": {
        "id": "BwlgBQ_TpIBT"
      },
      "source": [
        "###**Result: Displaying the result by calling the index class for Trees and Graphs**\n",
        "\n",
        "Using Vector Encoding Trees method the most similar properties to 'Clean & quiet apt home by the park' property are:\n",
        "'Beautiful Ft. Greene Apartment-NEW!', 'Sunny Clinton Hill Apt w/Patio', 'Stylish,Sunny, spacious luxury loft', 'Wow! Two Bedroom Apartment in Safe Neighborhood!', 'Super cool and sunny apartment in Crown Heights', 'Gorgeous Room in Heart of Soho', 'Spacious, Renovated 1 BR Loft Apt', 'Newly Furnished Beautiful & Quiet', 'ARTIST TRENDY NYC LOFT'"
      ]
    },
    {
      "cell_type": "code",
      "metadata": {
        "colab": {
          "base_uri": "https://localhost:8080/"
        },
        "id": "PAatsGaqpC1g",
        "outputId": "c3ed3ad6-6c6e-4656-8eeb-15650b5d3475"
      },
      "source": [
        "print(f\"The most similar hotels to {index.query(vec[0])} are:\\n\")\n",
        "print([numpy_array[i] for i in indices[0]])"
      ],
      "execution_count": 208,
      "outputs": [
        {
          "output_type": "stream",
          "name": "stdout",
          "text": [
            "The most similar hotels to ['Newly Furnished Beautiful & Quiet', 'ARTIST TRENDY NYC LOFT', 'Lovely 2 Bed Garden Apt Fort Greene', 'New Flat, Great Light,  Unique Brooklyn Bungalow', 'Super cool and sunny apartment in Crown Heights', 'Big Room with Private Bathroom', 'Clean & quiet apt home by the park', 'Beautiful Ft. Greene Apartment-NEW!', 'Sunny Clinton Hill Apt w/Patio', 'Stylish,Sunny, spacious luxury loft'] are:\n",
            "\n",
            "['Monkey Retreat Manhattan', 'HARLEM, NEW YORK WELCOMES YOU!!', 'Charming Private Room', 'Gorgeous apt. steps from subway', 'Budget/diamond in heart of Harlem', 'Spacious very High ceiling place !', 'Cozy  and sunny room in Manhattan', 'Cozy Harlem Experience', 'Convenience & Chill', 'Small, Cozy, Clean and Modern private room!']\n"
          ]
        }
      ]
    }
  ]
}